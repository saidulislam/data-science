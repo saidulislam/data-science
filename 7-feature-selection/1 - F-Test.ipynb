{
 "cells": [
  {
   "cell_type": "markdown",
   "metadata": {},
   "source": [
    "# Feature selection with F-Test"
   ]
  },
  {
   "cell_type": "code",
   "execution_count": 1,
   "metadata": {},
   "outputs": [],
   "source": [
    "# --------------------------------------------------------\n",
    "# Apply Feature Selection with F-Test on Linear Regression\n",
    "# Compare the result with selected features\n",
    "# --------------------------------------------------------"
   ]
  },
  {
   "cell_type": "code",
   "execution_count": 2,
   "metadata": {},
   "outputs": [],
   "source": [
    "# Import libraries\n",
    "import pandas as pd"
   ]
  },
  {
   "cell_type": "code",
   "execution_count": 3,
   "metadata": {},
   "outputs": [],
   "source": [
    "# Read the file\n",
    "f = pd.read_csv('Students2.csv')"
   ]
  },
  {
   "cell_type": "code",
   "execution_count": 4,
   "metadata": {},
   "outputs": [
    {
     "data": {
      "text/html": [
       "<div>\n",
       "<style scoped>\n",
       "    .dataframe tbody tr th:only-of-type {\n",
       "        vertical-align: middle;\n",
       "    }\n",
       "\n",
       "    .dataframe tbody tr th {\n",
       "        vertical-align: top;\n",
       "    }\n",
       "\n",
       "    .dataframe thead th {\n",
       "        text-align: right;\n",
       "    }\n",
       "</style>\n",
       "<table border=\"1\" class=\"dataframe\">\n",
       "  <thead>\n",
       "    <tr style=\"text-align: right;\">\n",
       "      <th></th>\n",
       "      <th>Hours</th>\n",
       "      <th>sHours</th>\n",
       "      <th>hoursplayed</th>\n",
       "      <th>income</th>\n",
       "      <th>distance</th>\n",
       "      <th>calories</th>\n",
       "      <th>Marks</th>\n",
       "    </tr>\n",
       "  </thead>\n",
       "  <tbody>\n",
       "    <tr>\n",
       "      <th>0</th>\n",
       "      <td>0</td>\n",
       "      <td>6</td>\n",
       "      <td>6</td>\n",
       "      <td>146</td>\n",
       "      <td>9</td>\n",
       "      <td>2491</td>\n",
       "      <td>34</td>\n",
       "    </tr>\n",
       "    <tr>\n",
       "      <th>1</th>\n",
       "      <td>1</td>\n",
       "      <td>7</td>\n",
       "      <td>2</td>\n",
       "      <td>112</td>\n",
       "      <td>5</td>\n",
       "      <td>2303</td>\n",
       "      <td>36</td>\n",
       "    </tr>\n",
       "    <tr>\n",
       "      <th>2</th>\n",
       "      <td>1</td>\n",
       "      <td>6</td>\n",
       "      <td>1</td>\n",
       "      <td>84</td>\n",
       "      <td>7</td>\n",
       "      <td>2475</td>\n",
       "      <td>33</td>\n",
       "    </tr>\n",
       "    <tr>\n",
       "      <th>3</th>\n",
       "      <td>1</td>\n",
       "      <td>8</td>\n",
       "      <td>5</td>\n",
       "      <td>134</td>\n",
       "      <td>0</td>\n",
       "      <td>2282</td>\n",
       "      <td>39</td>\n",
       "    </tr>\n",
       "    <tr>\n",
       "      <th>4</th>\n",
       "      <td>1</td>\n",
       "      <td>8</td>\n",
       "      <td>5</td>\n",
       "      <td>104</td>\n",
       "      <td>8</td>\n",
       "      <td>2359</td>\n",
       "      <td>42</td>\n",
       "    </tr>\n",
       "    <tr>\n",
       "      <th>5</th>\n",
       "      <td>2</td>\n",
       "      <td>8</td>\n",
       "      <td>4</td>\n",
       "      <td>80</td>\n",
       "      <td>1</td>\n",
       "      <td>2354</td>\n",
       "      <td>45</td>\n",
       "    </tr>\n",
       "    <tr>\n",
       "      <th>6</th>\n",
       "      <td>2</td>\n",
       "      <td>6</td>\n",
       "      <td>3</td>\n",
       "      <td>93</td>\n",
       "      <td>0</td>\n",
       "      <td>2943</td>\n",
       "      <td>38</td>\n",
       "    </tr>\n",
       "    <tr>\n",
       "      <th>7</th>\n",
       "      <td>3</td>\n",
       "      <td>6</td>\n",
       "      <td>3</td>\n",
       "      <td>83</td>\n",
       "      <td>7</td>\n",
       "      <td>2119</td>\n",
       "      <td>45</td>\n",
       "    </tr>\n",
       "    <tr>\n",
       "      <th>8</th>\n",
       "      <td>3</td>\n",
       "      <td>7</td>\n",
       "      <td>6</td>\n",
       "      <td>139</td>\n",
       "      <td>1</td>\n",
       "      <td>2511</td>\n",
       "      <td>53</td>\n",
       "    </tr>\n",
       "    <tr>\n",
       "      <th>9</th>\n",
       "      <td>3</td>\n",
       "      <td>7</td>\n",
       "      <td>5</td>\n",
       "      <td>138</td>\n",
       "      <td>10</td>\n",
       "      <td>2666</td>\n",
       "      <td>46</td>\n",
       "    </tr>\n",
       "    <tr>\n",
       "      <th>10</th>\n",
       "      <td>3</td>\n",
       "      <td>8</td>\n",
       "      <td>5</td>\n",
       "      <td>98</td>\n",
       "      <td>2</td>\n",
       "      <td>2934</td>\n",
       "      <td>56</td>\n",
       "    </tr>\n",
       "    <tr>\n",
       "      <th>11</th>\n",
       "      <td>4</td>\n",
       "      <td>8</td>\n",
       "      <td>1</td>\n",
       "      <td>90</td>\n",
       "      <td>0</td>\n",
       "      <td>2838</td>\n",
       "      <td>59</td>\n",
       "    </tr>\n",
       "    <tr>\n",
       "      <th>12</th>\n",
       "      <td>4</td>\n",
       "      <td>7</td>\n",
       "      <td>3</td>\n",
       "      <td>140</td>\n",
       "      <td>7</td>\n",
       "      <td>2102</td>\n",
       "      <td>55</td>\n",
       "    </tr>\n",
       "    <tr>\n",
       "      <th>13</th>\n",
       "      <td>4</td>\n",
       "      <td>7</td>\n",
       "      <td>6</td>\n",
       "      <td>144</td>\n",
       "      <td>3</td>\n",
       "      <td>2560</td>\n",
       "      <td>56</td>\n",
       "    </tr>\n",
       "    <tr>\n",
       "      <th>14</th>\n",
       "      <td>5</td>\n",
       "      <td>8</td>\n",
       "      <td>2</td>\n",
       "      <td>144</td>\n",
       "      <td>5</td>\n",
       "      <td>2068</td>\n",
       "      <td>72</td>\n",
       "    </tr>\n",
       "    <tr>\n",
       "      <th>15</th>\n",
       "      <td>5</td>\n",
       "      <td>6</td>\n",
       "      <td>2</td>\n",
       "      <td>119</td>\n",
       "      <td>6</td>\n",
       "      <td>2541</td>\n",
       "      <td>59</td>\n",
       "    </tr>\n",
       "    <tr>\n",
       "      <th>16</th>\n",
       "      <td>6</td>\n",
       "      <td>6</td>\n",
       "      <td>1</td>\n",
       "      <td>140</td>\n",
       "      <td>6</td>\n",
       "      <td>2690</td>\n",
       "      <td>62</td>\n",
       "    </tr>\n",
       "    <tr>\n",
       "      <th>17</th>\n",
       "      <td>6</td>\n",
       "      <td>7</td>\n",
       "      <td>1</td>\n",
       "      <td>85</td>\n",
       "      <td>3</td>\n",
       "      <td>2956</td>\n",
       "      <td>71</td>\n",
       "    </tr>\n",
       "    <tr>\n",
       "      <th>18</th>\n",
       "      <td>7</td>\n",
       "      <td>8</td>\n",
       "      <td>2</td>\n",
       "      <td>140</td>\n",
       "      <td>8</td>\n",
       "      <td>2239</td>\n",
       "      <td>78</td>\n",
       "    </tr>\n",
       "    <tr>\n",
       "      <th>19</th>\n",
       "      <td>7</td>\n",
       "      <td>8</td>\n",
       "      <td>6</td>\n",
       "      <td>107</td>\n",
       "      <td>0</td>\n",
       "      <td>2703</td>\n",
       "      <td>88</td>\n",
       "    </tr>\n",
       "    <tr>\n",
       "      <th>20</th>\n",
       "      <td>7</td>\n",
       "      <td>6</td>\n",
       "      <td>5</td>\n",
       "      <td>85</td>\n",
       "      <td>7</td>\n",
       "      <td>2603</td>\n",
       "      <td>61</td>\n",
       "    </tr>\n",
       "    <tr>\n",
       "      <th>21</th>\n",
       "      <td>7</td>\n",
       "      <td>6</td>\n",
       "      <td>3</td>\n",
       "      <td>109</td>\n",
       "      <td>0</td>\n",
       "      <td>2031</td>\n",
       "      <td>74</td>\n",
       "    </tr>\n",
       "    <tr>\n",
       "      <th>22</th>\n",
       "      <td>8</td>\n",
       "      <td>7</td>\n",
       "      <td>5</td>\n",
       "      <td>108</td>\n",
       "      <td>0</td>\n",
       "      <td>2885</td>\n",
       "      <td>71</td>\n",
       "    </tr>\n",
       "    <tr>\n",
       "      <th>23</th>\n",
       "      <td>8</td>\n",
       "      <td>8</td>\n",
       "      <td>1</td>\n",
       "      <td>150</td>\n",
       "      <td>8</td>\n",
       "      <td>2153</td>\n",
       "      <td>89</td>\n",
       "    </tr>\n",
       "    <tr>\n",
       "      <th>24</th>\n",
       "      <td>9</td>\n",
       "      <td>8</td>\n",
       "      <td>4</td>\n",
       "      <td>150</td>\n",
       "      <td>9</td>\n",
       "      <td>2384</td>\n",
       "      <td>82</td>\n",
       "    </tr>\n",
       "    <tr>\n",
       "      <th>25</th>\n",
       "      <td>9</td>\n",
       "      <td>5</td>\n",
       "      <td>5</td>\n",
       "      <td>84</td>\n",
       "      <td>10</td>\n",
       "      <td>2882</td>\n",
       "      <td>67</td>\n",
       "    </tr>\n",
       "    <tr>\n",
       "      <th>26</th>\n",
       "      <td>9</td>\n",
       "      <td>8</td>\n",
       "      <td>5</td>\n",
       "      <td>127</td>\n",
       "      <td>5</td>\n",
       "      <td>2271</td>\n",
       "      <td>89</td>\n",
       "    </tr>\n",
       "    <tr>\n",
       "      <th>27</th>\n",
       "      <td>10</td>\n",
       "      <td>8</td>\n",
       "      <td>6</td>\n",
       "      <td>95</td>\n",
       "      <td>6</td>\n",
       "      <td>2264</td>\n",
       "      <td>81</td>\n",
       "    </tr>\n",
       "    <tr>\n",
       "      <th>28</th>\n",
       "      <td>10</td>\n",
       "      <td>8</td>\n",
       "      <td>5</td>\n",
       "      <td>72</td>\n",
       "      <td>5</td>\n",
       "      <td>2522</td>\n",
       "      <td>82</td>\n",
       "    </tr>\n",
       "    <tr>\n",
       "      <th>29</th>\n",
       "      <td>11</td>\n",
       "      <td>7</td>\n",
       "      <td>3</td>\n",
       "      <td>89</td>\n",
       "      <td>3</td>\n",
       "      <td>2279</td>\n",
       "      <td>79</td>\n",
       "    </tr>\n",
       "  </tbody>\n",
       "</table>\n",
       "</div>"
      ],
      "text/plain": [
       "    Hours  sHours  hoursplayed  income  distance  calories  Marks\n",
       "0       0       6            6     146         9      2491     34\n",
       "1       1       7            2     112         5      2303     36\n",
       "2       1       6            1      84         7      2475     33\n",
       "3       1       8            5     134         0      2282     39\n",
       "4       1       8            5     104         8      2359     42\n",
       "5       2       8            4      80         1      2354     45\n",
       "6       2       6            3      93         0      2943     38\n",
       "7       3       6            3      83         7      2119     45\n",
       "8       3       7            6     139         1      2511     53\n",
       "9       3       7            5     138        10      2666     46\n",
       "10      3       8            5      98         2      2934     56\n",
       "11      4       8            1      90         0      2838     59\n",
       "12      4       7            3     140         7      2102     55\n",
       "13      4       7            6     144         3      2560     56\n",
       "14      5       8            2     144         5      2068     72\n",
       "15      5       6            2     119         6      2541     59\n",
       "16      6       6            1     140         6      2690     62\n",
       "17      6       7            1      85         3      2956     71\n",
       "18      7       8            2     140         8      2239     78\n",
       "19      7       8            6     107         0      2703     88\n",
       "20      7       6            5      85         7      2603     61\n",
       "21      7       6            3     109         0      2031     74\n",
       "22      8       7            5     108         0      2885     71\n",
       "23      8       8            1     150         8      2153     89\n",
       "24      9       8            4     150         9      2384     82\n",
       "25      9       5            5      84        10      2882     67\n",
       "26      9       8            5     127         5      2271     89\n",
       "27     10       8            6      95         6      2264     81\n",
       "28     10       8            5      72         5      2522     82\n",
       "29     11       7            3      89         3      2279     79"
      ]
     },
     "execution_count": 4,
     "metadata": {},
     "output_type": "execute_result"
    }
   ],
   "source": [
    "f"
   ]
  },
  {
   "cell_type": "code",
   "execution_count": 5,
   "metadata": {},
   "outputs": [],
   "source": [
    "# Split the columns into independent (X) and dependent (Y) features\n",
    "X = f.iloc[:,:-1]\n",
    "Y = f.iloc[:, -1]"
   ]
  },
  {
   "cell_type": "code",
   "execution_count": 6,
   "metadata": {},
   "outputs": [],
   "source": [
    "# Perform Linear Regression using original dataset\n",
    "from sklearn.linear_model import LinearRegression\n",
    "\n",
    "lr = LinearRegression()"
   ]
  },
  {
   "cell_type": "code",
   "execution_count": 7,
   "metadata": {},
   "outputs": [
    {
     "data": {
      "text/plain": [
       "array([37.4304362 , 56.8479958 , 38.85467354, 38.975673  , 82.86947672,\n",
       "       59.67634562, 52.29968093, 81.17290759, 67.77562938, 63.7577854 ,\n",
       "       82.18209854, 86.65908659])"
      ]
     },
     "execution_count": 7,
     "metadata": {},
     "output_type": "execute_result"
    }
   ],
   "source": [
    "# Split the data\n",
    "from sklearn.model_selection import train_test_split\n",
    "X_train, X_test, Y_train, Y_test = \\\n",
    "    train_test_split(X, Y, test_size = 0.4, random_state = 1234)\n",
    "\n",
    "lr.fit(X_train, Y_train)\n",
    "\n",
    "Y_predict = lr.predict(X_test)\n",
    "Y_predict"
   ]
  },
  {
   "cell_type": "code",
   "execution_count": 8,
   "metadata": {},
   "outputs": [
    {
     "data": {
      "text/plain": [
       "6.982206715357434"
      ]
     },
     "execution_count": 8,
     "metadata": {},
     "output_type": "execute_result"
    }
   ],
   "source": [
    "# Calculate the RMSE error for the regression\n",
    "from sklearn.metrics import mean_squared_error\n",
    "import math\n",
    "\n",
    "rmse = math.sqrt(mean_squared_error(Y_test, Y_predict))\n",
    "rmse"
   ]
  },
  {
   "cell_type": "code",
   "execution_count": 9,
   "metadata": {},
   "outputs": [
    {
     "data": {
      "text/plain": [
       "(array([1.41905913e+02, 4.57019756e+00, 1.44882087e-03, 1.59990513e-01,\n",
       "        3.16606568e-03, 4.04208927e-01]),\n",
       " array([1.77038466e-12, 4.14028344e-02, 9.69907241e-01, 6.92200477e-01,\n",
       "        9.55528076e-01, 5.30086171e-01]))"
      ]
     },
     "execution_count": 9,
     "metadata": {},
     "output_type": "execute_result"
    }
   ],
   "source": [
    "# import and perform the f_regression to get the F-Score and P-Values\n",
    "from sklearn.feature_selection import f_regression as fr\n",
    "result = fr(X,Y)\n",
    "result"
   ]
  },
  {
   "cell_type": "code",
   "execution_count": 10,
   "metadata": {},
   "outputs": [
    {
     "name": "stdout",
     "output_type": "stream",
     "text": [
      "[1.41905913e+02 4.57019756e+00 1.44882087e-03 1.59990513e-01\n",
      " 3.16606568e-03 4.04208927e-01]\n",
      "[1.77038466e-12 4.14028344e-02 9.69907241e-01 6.92200477e-01\n",
      " 9.55528076e-01 5.30086171e-01]\n"
     ]
    }
   ],
   "source": [
    "# Split the result tuple into F_Score and P_Values\n",
    "f_score = result[0]\n",
    "p_values = result[1]\n",
    "\n",
    "print(f_score)\n",
    "print(p_values)"
   ]
  },
  {
   "cell_type": "code",
   "execution_count": 11,
   "metadata": {},
   "outputs": [
    {
     "name": "stdout",
     "output_type": "stream",
     "text": [
      " \n",
      " \n",
      " \n",
      "    Features      F-Score     P-Values\n",
      "    -----------  ---------    ---------\n",
      "     Hours          141.91      0.000000\n",
      "     sHours           4.57      0.041403\n",
      "     hoursplayed      0.00      0.969907\n",
      "     income           0.16      0.692200\n",
      "     distance         0.00      0.955528\n",
      "     calories         0.40      0.530086\n"
     ]
    }
   ],
   "source": [
    "# Print the table of Features, F-Score and P-values\n",
    "columns = list(X.columns)\n",
    "\n",
    "print (\" \")\n",
    "print (\" \")\n",
    "print (\" \")\n",
    "\n",
    "print (\"    Features     \", \"F-Score    \", \"P-Values\")\n",
    "print (\"    -----------  ---------    ---------\")\n",
    "\n",
    "for i in range(0, len(columns)):\n",
    "    f1 = \"%4.2f\" % f_score[i]\n",
    "    p1 = \"%2.6f\" % p_values[i]\n",
    "    print(\"    \", columns[i].ljust(12), f1.rjust(8),\"    \", p1.rjust(8))"
   ]
  },
  {
   "cell_type": "code",
   "execution_count": 12,
   "metadata": {},
   "outputs": [],
   "source": [
    "# Perform the Linear Regression with reduced features\n",
    "# In this case, we kept Hours and sHours because both are below 0.05 (alpha)\n",
    "# we discarded the rest\n",
    "X_train_n = X_train[['Hours', 'sHours']]\n",
    "X_test_n = X_test[['Hours', 'sHours']]\n",
    "\n",
    "lr1 = LinearRegression()\n",
    "lr1.fit(X_train_n, Y_train)\n",
    "\n",
    "Y_predict_n = lr1.predict(X_test_n)"
   ]
  },
  {
   "cell_type": "code",
   "execution_count": 13,
   "metadata": {},
   "outputs": [
    {
     "data": {
      "text/plain": [
       "5.09721728108113"
      ]
     },
     "execution_count": 13,
     "metadata": {},
     "output_type": "execute_result"
    }
   ],
   "source": [
    "# Calculate the RMSE with reduced features\n",
    "rmse_n = math.sqrt(mean_squared_error(Y_test, Y_predict_n))\n",
    "rmse_n"
   ]
  },
  {
   "cell_type": "code",
   "execution_count": 14,
   "metadata": {},
   "outputs": [
    {
     "name": "stdout",
     "output_type": "stream",
     "text": [
      "6.982206715357434\n",
      "5.09721728108113\n"
     ]
    }
   ],
   "source": [
    "print(rmse)\n",
    "print(rmse_n)"
   ]
  },
  {
   "cell_type": "code",
   "execution_count": null,
   "metadata": {},
   "outputs": [],
   "source": [
    "# rmse was improved with only 2 features - the ones we selected due to their p values being below 0"
   ]
  }
 ],
 "metadata": {
  "kernelspec": {
   "display_name": "Python 3",
   "language": "python",
   "name": "python3"
  },
  "language_info": {
   "codemirror_mode": {
    "name": "ipython",
    "version": 3
   },
   "file_extension": ".py",
   "mimetype": "text/x-python",
   "name": "python",
   "nbconvert_exporter": "python",
   "pygments_lexer": "ipython3",
   "version": "3.6.12"
  }
 },
 "nbformat": 4,
 "nbformat_minor": 4
}
